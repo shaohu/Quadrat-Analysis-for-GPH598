{
 "metadata": {
  "name": "",
  "signature": "sha256:3fed81830de56d70bdf15ca9ed741443bd575a2ac9520d91421681c3c1950264"
 },
 "nbformat": 3,
 "nbformat_minor": 0,
 "worksheets": [
  {
   "cells": [
    {
     "cell_type": "code",
     "collapsed": false,
     "input": [
      "%matplotlib inline\n",
      "import quadrats_new as qd\n",
      "import simulated_inference as si"
     ],
     "language": "python",
     "metadata": {},
     "outputs": [],
     "prompt_number": 1
    },
    {
     "cell_type": "code",
     "collapsed": false,
     "input": [
      "# generate 1000 random points with the default limitation of x[0, 100], y[0, 100]\n",
      "list_points_1 = qd.generate_points(1000)"
     ],
     "language": "python",
     "metadata": {},
     "outputs": [],
     "prompt_number": 2
    },
    {
     "cell_type": "markdown",
     "metadata": {},
     "source": [
      "##simulated testing 1\n",
      "* random points patterns apply with poisson csr\n",
      "* grid structure: hexagon\n",
      "* Number of simulated point patterns: 99"
     ]
    },
    {
     "cell_type": "code",
     "collapsed": false,
     "input": [
      "si.quadrats_simulate(list_points_1,simulate=\"poisson\",t=\"hexagon\")"
     ],
     "language": "python",
     "metadata": {},
     "outputs": [
      {
       "metadata": {},
       "output_type": "pyout",
       "prompt_number": 3,
       "text": [
        "0.72"
       ]
      }
     ],
     "prompt_number": 3
    },
    {
     "cell_type": "markdown",
     "metadata": {},
     "source": [
      "##simulated testing 2\n",
      "* random points patterns apply with uniform csr\n",
      "* grid structure: rectangular\n",
      "* Number of simulated point patterns: 999"
     ]
    },
    {
     "cell_type": "code",
     "collapsed": false,
     "input": [
      "si.quadrats_simulate(list_points_1,simulate=\"uniform\",t=\"rectangular\",nsim = 999)"
     ],
     "language": "python",
     "metadata": {},
     "outputs": [
      {
       "metadata": {},
       "output_type": "pyout",
       "prompt_number": 4,
       "text": [
        "0.944"
       ]
      }
     ],
     "prompt_number": 4
    }
   ],
   "metadata": {}
  }
 ]
}